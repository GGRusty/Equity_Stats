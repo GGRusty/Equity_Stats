{
 "cells": [
  {
   "cell_type": "code",
   "execution_count": 1,
   "metadata": {},
   "outputs": [],
   "source": [
    "from stats_functions import *"
   ]
  },
  {
   "cell_type": "code",
   "execution_count": 2,
   "metadata": {},
   "outputs": [],
   "source": [
    "index = \"^GSPC\"\n",
    "stock = \"NVDA\"\n",
    "period = \"3y\"\n",
    "interval = \"1wk\""
   ]
  },
  {
   "cell_type": "markdown",
   "metadata": {},
   "source": [
    "## Calculating Beta\n",
    "\n",
    "Beta measures the volatility of a stock relative to the overall market. A higher beta indicates higher risk and potentially higher returns with higher risk."
   ]
  },
  {
   "cell_type": "code",
   "execution_count": 3,
   "metadata": {},
   "outputs": [
    {
     "data": {
      "text/plain": [
       "1.9989976250668346"
      ]
     },
     "execution_count": 3,
     "metadata": {},
     "output_type": "execute_result"
    }
   ],
   "source": [
    "beta = calculate_beta(index, stock, period, interval, just_beta=True)\n",
    "beta"
   ]
  },
  {
   "cell_type": "markdown",
   "metadata": {},
   "source": [
    "## Risk-Free Rate\n",
    "\n",
    "The risk-free rate is a theoretical return on an investment with zero risk, typically represented by Treasury securities. This function allows you to use 4wk, 3m, 6m, 1y, 3y, 5y, 7y, and 10y."
   ]
  },
  {
   "cell_type": "code",
   "execution_count": 4,
   "metadata": {},
   "outputs": [
    {
     "name": "stdout",
     "output_type": "stream",
     "text": [
      "0.054400000000000004\n"
     ]
    }
   ],
   "source": [
    "risk_free = get_rf_rate(treasury_type=\"3m\")\n",
    "print(risk_free)"
   ]
  },
  {
   "cell_type": "markdown",
   "metadata": {},
   "source": [
    "## Market Return\n",
    "\n",
    "The market return is the average return of a broad market index and represents the return expected from the market as a whole. We use the geometric average of the past ten years to account for compounding:"
   ]
  },
  {
   "cell_type": "code",
   "execution_count": 5,
   "metadata": {},
   "outputs": [
    {
     "name": "stderr",
     "output_type": "stream",
     "text": [
      "[*********************100%%**********************]  1 of 1 completed\n"
     ]
    },
    {
     "data": {
      "text/plain": [
       "0.09752892653831724"
      ]
     },
     "execution_count": 5,
     "metadata": {},
     "output_type": "execute_result"
    }
   ],
   "source": [
    "market_return = get_market_return(index, period=\"10y\")\n",
    "market_return"
   ]
  },
  {
   "cell_type": "markdown",
   "metadata": {},
   "source": [
    "## CAPM Calculation\n",
    "\n",
    "The CAPM formula calculates the expected return of an asset, considering its risk relative to the market. The formula is: Expected Return = Risk-Free Rate + Beta * (Market Return - Risk-Free Rate):"
   ]
  },
  {
   "cell_type": "code",
   "execution_count": 9,
   "metadata": {},
   "outputs": [
    {
     "name": "stderr",
     "output_type": "stream",
     "text": [
      "[*********************100%%**********************]  1 of 1 completed"
     ]
    },
    {
     "name": "stdout",
     "output_type": "stream",
     "text": [
      "The required return for NVDA, is: 14.06 %\n"
     ]
    },
    {
     "name": "stderr",
     "output_type": "stream",
     "text": [
      "\n"
     ]
    }
   ],
   "source": [
    "required_return = calculate_capm(stock, index, period, interval, market_period='10y', treasury_type='3m')\n",
    "print(f'The required return for {stock}, is: {round(required_return*100, 2)} %')"
   ]
  },
  {
   "cell_type": "markdown",
   "metadata": {},
   "source": [
    "While CAPM is a foundational model in finance, it's important to acknowledge its limitations and the evolving nature of financial markets. Engaging with alternative models and incorporating additional factors like macroeconomic variables or company-specific risks can provide a more nuanced understanding of expected returns."
   ]
  }
 ],
 "metadata": {
  "kernelspec": {
   "display_name": "Stats",
   "language": "python",
   "name": "python3"
  },
  "language_info": {
   "codemirror_mode": {
    "name": "ipython",
    "version": 3
   },
   "file_extension": ".py",
   "mimetype": "text/x-python",
   "name": "python",
   "nbconvert_exporter": "python",
   "pygments_lexer": "ipython3",
   "version": "3.12.1"
  }
 },
 "nbformat": 4,
 "nbformat_minor": 2
}
